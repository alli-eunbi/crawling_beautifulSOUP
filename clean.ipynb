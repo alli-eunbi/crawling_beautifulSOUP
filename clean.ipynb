{
 "cells": [
  {
   "cell_type": "code",
   "execution_count": 16,
   "metadata": {},
   "outputs": [],
   "source": [
    "import pandas as pd\n",
    "\n",
    "data = pd.read_csv(\"1758.csv\")"
   ]
  },
  {
   "cell_type": "code",
   "execution_count": 17,
   "metadata": {},
   "outputs": [
    {
     "data": {
      "text/plain": "0                             단호박 1/4개, 찹쌀가루 4Ts, 식용유 4Ts\n1       , 도토리묵 1모, 달래 30g, 김가루 약간, 통깨 약간 , 간장 3숟가락, 고춧...\n2       , 데친 시금치 1줌, 쌈장 1큰술, 참기름 1큰술, 다진마늘 1/2큰술, 갈은깨 1큰술\n3       , 미나리 쫑쫑썰어 1컵 , 다진마늘 1티스푼, 다진파 1/2큰술, 고춧가루 1/2...\n4       , 메추리알 48개, 양파 1/2개, 대파 작은것 1개, 카레가루 3.5T, 물 6...\n                              ...                        \n3959    , 건취나물 200g| 막장 1T| 멸치가루 1/2T| 표고버섯가루 1T| 들기름 ...\n3960    , 밥 1공기| 참치 1/2통조림| 김치 60g| 단무지 1개| 김가루 3T| 마요...\n3961    , 멸치 3줌| 새송이버섯 1개| 마늘 3개 , 미향 1/2T| 간장 1/2T| 올...\n3962     밀가루 4컵| 물 1+1/2컵| 소금 1t  애호박 2/3개| 당근 1/3개| 양...\n3963     호박 꽃 10송이| 양파 1/2개| 당근 1/4개| 애호박 1/2개| 꼬마 새송이...\nName: total_ingredients, Length: 3964, dtype: object"
     },
     "execution_count": 17,
     "metadata": {},
     "output_type": "execute_result"
    }
   ],
   "source": [
    "total = data['total_ingredients']\n",
    "total"
   ]
  },
  {
   "cell_type": "code",
   "execution_count": 18,
   "metadata": {},
   "outputs": [
    {
     "name": "stderr",
     "output_type": "stream",
     "text": [
      "/var/folders/kl/hjq1s7ld07sdf8pnybmh54h40000gn/T/ipykernel_52350/1952471482.py:4: SettingWithCopyWarning: \n",
      "A value is trying to be set on a copy of a slice from a DataFrame\n",
      "\n",
      "See the caveats in the documentation: https://pandas.pydata.org/pandas-docs/stable/user_guide/indexing.html#returning-a-view-versus-a-copy\n",
      "  total[i] = tt.replace(', ', '', 1)\n"
     ]
    },
    {
     "name": "stdout",
     "output_type": "stream",
     "text": [
      "0                             단호박 1/4개, 찹쌀가루 4Ts, 식용유 4Ts\n",
      "1       도토리묵 1모, 달래 30g, 김가루 약간, 통깨 약간 , 간장 3숟가락, 고춧가루...\n",
      "2         데친 시금치 1줌, 쌈장 1큰술, 참기름 1큰술, 다진마늘 1/2큰술, 갈은깨 1큰술\n",
      "3       미나리 쫑쫑썰어 1컵 , 다진마늘 1티스푼, 다진파 1/2큰술, 고춧가루 1/2큰술...\n",
      "4       메추리알 48개, 양파 1/2개, 대파 작은것 1개, 카레가루 3.5T, 물 600...\n",
      "                              ...                        \n",
      "3959    건취나물 200g| 막장 1T| 멸치가루 1/2T| 표고버섯가루 1T| 들기름 1T...\n",
      "3960    밥 1공기| 참치 1/2통조림| 김치 60g| 단무지 1개| 김가루 3T| 마요네즈...\n",
      "3961    멸치 3줌| 새송이버섯 1개| 마늘 3개 , 미향 1/2T| 간장 1/2T| 올리고...\n",
      "3962     밀가루 4컵| 물 1+1/2컵| 소금 1t  애호박 2/3개| 당근 1/3개| 양...\n",
      "3963     호박 꽃 10송이| 양파 1/2개| 당근 1/4개| 애호박 1/2개| 꼬마 새송이...\n",
      "Name: total_ingredients, Length: 3964, dtype: object\n"
     ]
    }
   ],
   "source": [
    "for i in range(len(total)):\n",
    "    tt = total[i]\n",
    "    if tt.startswith(','):\n",
    "         total[i] = tt.replace(', ', '', 1)\n",
    "print(total)"
   ]
  },
  {
   "cell_type": "code",
   "execution_count": 19,
   "metadata": {},
   "outputs": [
    {
     "name": "stdout",
     "output_type": "stream",
     "text": [
      "0                             단호박 1/4개, 찹쌀가루 4Ts, 식용유 4Ts\n",
      "1       도토리묵 1모, 달래 30g, 김가루 약간, 통깨 약간 , 간장 3숟가락, 고춧가루...\n",
      "2         데친 시금치 1줌, 쌈장 1큰술, 참기름 1큰술, 다진마늘 1/2큰술, 갈은깨 1큰술\n",
      "3       미나리 쫑쫑썰어 1컵 , 다진마늘 1티스푼, 다진파 1/2큰술, 고춧가루 1/2큰술...\n",
      "4       메추리알 48개, 양파 1/2개, 대파 작은것 1개, 카레가루 3.5T, 물 600...\n",
      "                              ...                        \n",
      "3959    건취나물 200g| 막장 1T| 멸치가루 1/2T| 표고버섯가루 1T| 들기름 1T...\n",
      "3960    밥 1공기| 참치 1/2통조림| 김치 60g| 단무지 1개| 김가루 3T| 마요네즈...\n",
      "3961    멸치 3줌| 새송이버섯 1개| 마늘 3개 , 미향 1/2T| 간장 1/2T| 올리고...\n",
      "3962     밀가루 4컵| 물 1+1/2컵| 소금 1t  애호박 2/3개| 당근 1/3개| 양...\n",
      "3963     호박 꽃 10송이| 양파 1/2개| 당근 1/4개| 애호박 1/2개| 꼬마 새송이...\n",
      "Name: total_ingredients, Length: 3964, dtype: object\n"
     ]
    },
    {
     "name": "stderr",
     "output_type": "stream",
     "text": [
      "/var/folders/kl/hjq1s7ld07sdf8pnybmh54h40000gn/T/ipykernel_52350/428399430.py:4: SettingWithCopyWarning: \n",
      "A value is trying to be set on a copy of a slice from a DataFrame\n",
      "\n",
      "See the caveats in the documentation: https://pandas.pydata.org/pandas-docs/stable/user_guide/indexing.html#returning-a-view-versus-a-copy\n",
      "  total[i] = tt.replace('?', '')\n"
     ]
    }
   ],
   "source": [
    "for i in range(len(total)):\n",
    "    tt = total[i]\n",
    "    if tt.startswith('?'):\n",
    "         total[i] = tt.replace('?', '')\n",
    "print(total)"
   ]
  },
  {
   "cell_type": "code",
   "execution_count": 20,
   "metadata": {},
   "outputs": [
    {
     "name": "stdout",
     "output_type": "stream",
     "text": [
      "0                             단호박 1/4개, 찹쌀가루 4Ts, 식용유 4Ts\n",
      "1       도토리묵 1모, 달래 30g, 김가루 약간, 통깨 약간 , 간장 3숟가락, 고춧가루...\n",
      "2         데친 시금치 1줌, 쌈장 1큰술, 참기름 1큰술, 다진마늘 1/2큰술, 갈은깨 1큰술\n",
      "3       미나리 쫑쫑썰어 1컵 , 다진마늘 1티스푼, 다진파 1/2큰술, 고춧가루 1/2큰술...\n",
      "4       메추리알 48개, 양파 1/2개, 대파 작은것 1개, 카레가루 3.5T, 물 600...\n",
      "                              ...                        \n",
      "3959    건취나물 200g| 막장 1T| 멸치가루 1/2T| 표고버섯가루 1T| 들기름 1T...\n",
      "3960    밥 1공기| 참치 1/2통조림| 김치 60g| 단무지 1개| 김가루 3T| 마요네즈...\n",
      "3961    멸치 3줌| 새송이버섯 1개| 마늘 3개 , 미향 1/2T| 간장 1/2T| 올리고...\n",
      "3962     밀가루 4컵| 물 1+1/2컵| 소금 1t  애호박 2/3개| 당근 1/3개| 양...\n",
      "3963     호박 꽃 10송이| 양파 1/2개| 당근 1/4개| 애호박 1/2개| 꼬마 새송이...\n",
      "Name: total_ingredients, Length: 3964, dtype: object\n"
     ]
    }
   ],
   "source": [
    "for i in range(len(total)):\n",
    "    tt = total[i]\n",
    "    if tt.startswith(','):\n",
    "         total[i] = tt.replace(',', '', 1)\n",
    "print(total)"
   ]
  },
  {
   "cell_type": "code",
   "execution_count": 21,
   "metadata": {},
   "outputs": [],
   "source": [
    "data['total_ingredients'] = total\n",
    "data.to_csv(\"0223.csv\")"
   ]
  }
 ],
 "metadata": {
  "kernelspec": {
   "display_name": "Python 3.9.5 64-bit",
   "name": "python395jvsc74a57bd0aee8b7b246df8f9039afb4144a1f6fd8d2ca17a180786b69acc140d282b71a49"
  },
  "language_info": {
   "codemirror_mode": {
    "name": "ipython",
    "version": 3
   },
   "file_extension": ".py",
   "mimetype": "text/x-python",
   "name": "python",
   "nbconvert_exporter": "python",
   "pygments_lexer": "ipython3",
   "version": "3.9.5"
  },
  "metadata": {
   "interpreter": {
    "hash": "aee8b7b246df8f9039afb4144a1f6fd8d2ca17a180786b69acc140d282b71a49"
   }
  },
  "orig_nbformat": 2
 },
 "nbformat": 4,
 "nbformat_minor": 2
}