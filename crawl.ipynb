{
 "cells": [
  {
   "cell_type": "code",
   "execution_count": 55,
   "metadata": {},
   "outputs": [],
   "source": [
    "import pandas as pd\n",
    "\n",
    "data = pd.read_csv(\"final_recipes.csv\")\n",
    "search_index = data[\"레시피일련번호\"]"
   ]
  },
  {
   "cell_type": "code",
   "execution_count": 56,
   "metadata": {},
   "outputs": [
    {
     "name": "stdout",
     "output_type": "stream",
     "text": [
      "Requirement already satisfied: bs4 in /Library/Frameworks/Python.framework/Versions/3.9/lib/python3.9/site-packages (0.0.1)\n",
      "Requirement already satisfied: beautifulsoup4 in /Library/Frameworks/Python.framework/Versions/3.9/lib/python3.9/site-packages (from bs4) (4.10.0)\n",
      "Requirement already satisfied: soupsieve>1.2 in /Library/Frameworks/Python.framework/Versions/3.9/lib/python3.9/site-packages (from beautifulsoup4->bs4) (2.3.1)\n",
      "\u001b[33mWARNING: You are using pip version 21.3.1; however, version 22.0.3 is available.\n",
      "You should consider upgrading via the '/Library/Frameworks/Python.framework/Versions/3.9/bin/python3.9 -m pip install --upgrade pip' command.\u001b[0m\n"
     ]
    }
   ],
   "source": [
    "!pip install bs4"
   ]
  },
  {
   "cell_type": "code",
   "execution_count": 59,
   "metadata": {},
   "outputs": [],
   "source": [
    "import requests\n",
    "from bs4 import BeautifulSoup\n",
    "\n",
    "## HTTP GET Request\n",
    "req = requests.get('https://www.10000recipe.com/recipe/6893285')\n",
    "## HTML 소스 가져오기\n",
    "html = req.text\n",
    "## BeautifulSoup으로 html소스를 python객체로 변환하기\n",
    "## 첫 인자는 html소스코드, 두 번째 인자는 어떤 parser를 이용할지 명시.\n",
    "## 이 글에서는 Python 내장 html.parser를 이용했다.\n",
    "soup = BeautifulSoup(html, 'html.parser')"
   ]
  },
  {
   "cell_type": "code",
   "execution_count": 61,
   "metadata": {},
   "outputs": [
    {
     "data": {
      "text/plain": "'https://recipe1.ezmember.co.kr/cache/recipe/2018/07/29/52046ea43391de69233f594b0b52bb311.JPG'"
     },
     "execution_count": 61,
     "metadata": {},
     "output_type": "execute_result"
    }
   ],
   "source": [
    "img_src = soup.select(\n",
    "    '#main_thumbs'\n",
    ")\n",
    "img_src\n",
    "img_src[0].attrs['src']"
   ]
  },
  {
   "cell_type": "code",
   "execution_count": 49,
   "metadata": {},
   "outputs": [],
   "source": [
    "base_url = \"https://www.10000recipe.com/recipe/\""
   ]
  },
  {
   "cell_type": "code",
   "execution_count": 77,
   "metadata": {},
   "outputs": [],
   "source": [
    "main_img = []\n",
    "for index in search_index:\n",
    "    ## HTTP GET Request\n",
    "    req = requests.get(f'https://www.10000recipe.com/recipe/{index}')\n",
    "    ## HTML 소스 가져오기\n",
    "    html = req.text\n",
    "    soup = BeautifulSoup(html, 'html.parser')\n",
    "    img_src = soup.select('#main_thumbs')\n",
    "    main_img.append(img_src[0].attrs['src'])"
   ]
  },
  {
   "cell_type": "code",
   "execution_count": 182,
   "metadata": {},
   "outputs": [
    {
     "ename": "IndentationError",
     "evalue": "expected an indented block (100249589.py, line 2)",
     "output_type": "error",
     "traceback": [
      "\u001b[0;36m  File \u001b[0;32m\"/var/folders/kl/hjq1s7ld07sdf8pnybmh54h40000gn/T/ipykernel_31999/100249589.py\"\u001b[0;36m, line \u001b[0;32m2\u001b[0m\n\u001b[0;31m    data[\"main_image\"] = main_img\u001b[0m\n\u001b[0m    ^\u001b[0m\n\u001b[0;31mIndentationError\u001b[0m\u001b[0;31m:\u001b[0m expected an indented block\n"
     ]
    }
   ],
   "source": [
    "data[\"main_image\"] = main_img"
   ]
  },
  {
   "cell_type": "code",
   "execution_count": 81,
   "metadata": {},
   "outputs": [
    {
     "data": {
      "text/html": "<div>\n<style scoped>\n    .dataframe tbody tr th:only-of-type {\n        vertical-align: middle;\n    }\n\n    .dataframe tbody tr th {\n        vertical-align: top;\n    }\n\n    .dataframe thead th {\n        text-align: right;\n    }\n</style>\n<table border=\"1\" class=\"dataframe\">\n  <thead>\n    <tr style=\"text-align: right;\">\n      <th></th>\n      <th>Unnamed: 0</th>\n      <th>레시피일련번호</th>\n      <th>레시피제목</th>\n      <th>요리명</th>\n      <th>등록자ID</th>\n      <th>등록자명</th>\n      <th>조회수</th>\n      <th>추천수</th>\n      <th>스크랩수</th>\n      <th>요리방법</th>\n      <th>...</th>\n      <th>요리재료별명</th>\n      <th>요리종류</th>\n      <th>요리소개</th>\n      <th>요리재료들</th>\n      <th>요리인분</th>\n      <th>요리난이도</th>\n      <th>요리시간</th>\n      <th>최초등록일</th>\n      <th>ingre1</th>\n      <th>main_image</th>\n    </tr>\n  </thead>\n  <tbody>\n    <tr>\n      <th>0</th>\n      <td>0</td>\n      <td>6929671</td>\n      <td>단호박 요리 / 단호박 찹쌀부꾸미</td>\n      <td>단호박찹쌀부꾸미</td>\n      <td>62929808</td>\n      <td>요알남Mingstar</td>\n      <td>3259</td>\n      <td>0</td>\n      <td>72</td>\n      <td>굽기</td>\n      <td>...</td>\n      <td>채소류</td>\n      <td>밑반찬</td>\n      <td>단호박은 서양계 호박의 한 품종으로 당도가 높고 밤 맛이 난다 하여 밤호박이라고도 ...</td>\n      <td>{재료: [단호박 1/4개, 찹쌀가루 4Ts, 식용유 4Ts]}</td>\n      <td>1인분</td>\n      <td>아무나</td>\n      <td>30분이내</td>\n      <td>2.020000e+13</td>\n      <td>단호박, 찹쌀가루, 식용유</td>\n      <td>https://recipe1.ezmember.co.kr/cache/recipe/20...</td>\n    </tr>\n    <tr>\n      <th>1</th>\n      <td>1</td>\n      <td>6929678</td>\n      <td>달래양념장 넣어 더 맛있는 만드는 도토리묵무침! : 달래도토리묵무침</td>\n      <td>달래도토리묵무침</td>\n      <td>gdubu33</td>\n      <td>만개의레시피</td>\n      <td>17425</td>\n      <td>0</td>\n      <td>771</td>\n      <td>무침</td>\n      <td>...</td>\n      <td>기타</td>\n      <td>밑반찬</td>\n      <td>향긋한 달래의 향이 가득!  봄에는 역시 봄 달래양념장을 넣어 도토리묵을  더 맛있...</td>\n      <td>[필수재료] 도토리묵 1모| 달래 30g| 김가루 약간| 통깨 약간 [양념재료] 간...</td>\n      <td>2인분</td>\n      <td>아무나</td>\n      <td>30분이내</td>\n      <td>2.020000e+13</td>\n      <td>도토리묵, 달래, 김, 통깨, 간장, 고춧가루, 설탕, 다진마늘, 참기름, 통깨</td>\n      <td>https://recipe1.ezmember.co.kr/cache/recipe/20...</td>\n    </tr>\n    <tr>\n      <th>2</th>\n      <td>2</td>\n      <td>6929682</td>\n      <td>나물반찬 한 가지...시금치 쌈장무침  시금치무침</td>\n      <td>시금치쌈장무침</td>\n      <td>0807twins</td>\n      <td>배고픈엄마</td>\n      <td>2004</td>\n      <td>0</td>\n      <td>13</td>\n      <td>무침</td>\n      <td>...</td>\n      <td>채소류</td>\n      <td>밑반찬</td>\n      <td>시금치를 사와 데쳤는데 맛이 없다면... 저는 김밥에 넣어 말아 버립니다. 그런데 ...</td>\n      <td>[재료] 데친 시금치 1줌| 쌈장 1큰술| 참기름 1큰술| 다진마늘 1/2큰술| 갈...</td>\n      <td>4인분</td>\n      <td>초급</td>\n      <td>15분이내</td>\n      <td>2.020000e+13</td>\n      <td>시금치, 쌈장, 참기름, 다진마늘, 깨</td>\n      <td>https://recipe1.ezmember.co.kr/cache/recipe/20...</td>\n    </tr>\n    <tr>\n      <th>3</th>\n      <td>3</td>\n      <td>6929683</td>\n      <td>간단한 점심 한끼♥한재미나리 무침♥쉬운 나물반찬#7</td>\n      <td>한재미나리무침</td>\n      <td>47282064</td>\n      <td>자유부인식당</td>\n      <td>2591</td>\n      <td>0</td>\n      <td>56</td>\n      <td>무침</td>\n      <td>...</td>\n      <td>채소류</td>\n      <td>밑반찬</td>\n      <td>봄미나리 철이네요. 연한 한재미나리를 송송 썰어 최소한의 양념으로 무치면 미나리 향...</td>\n      <td>[재료] 미나리 쫑쫑썰어 1컵 [양념] 다진마늘 1티스푼| 다진파 1/2큰술| 고춧...</td>\n      <td>2인분</td>\n      <td>아무나</td>\n      <td>10분이내</td>\n      <td>2.020000e+13</td>\n      <td>미나리,  다진마늘,  대파, 고춧가루, 간장, 매실액, 참기름, 깨소금</td>\n      <td>https://recipe1.ezmember.co.kr/cache/recipe/20...</td>\n    </tr>\n    <tr>\n      <th>4</th>\n      <td>4</td>\n      <td>6929690</td>\n      <td>대용량 반찬 메추리알카레조림 만드는 법(+메추리알 쉽게 까는 법)</td>\n      <td>메추리알카레조림</td>\n      <td>qkrfp458</td>\n      <td>레몬콩</td>\n      <td>1897</td>\n      <td>0</td>\n      <td>105</td>\n      <td>조림</td>\n      <td>...</td>\n      <td>달걀/유제품</td>\n      <td>메인반찬</td>\n      <td>집에 메추리알을 좀 많이 사뒀는데 늘 조림이나 그런것만 해먹으니까 좀 색다르게 먹고...</td>\n      <td>[재료] 메추리알 48개| 양파 1/2개| 대파 작은것 1개| 카레가루 3.5T| ...</td>\n      <td>2인분</td>\n      <td>아무나</td>\n      <td>60분이내</td>\n      <td>2.020000e+13</td>\n      <td>메추리알, 양파, 대파, 카레가루, 물, 소금</td>\n      <td>https://recipe1.ezmember.co.kr/cache/recipe/20...</td>\n    </tr>\n  </tbody>\n</table>\n<p>5 rows × 21 columns</p>\n</div>",
      "text/plain": "   Unnamed: 0  레시피일련번호                                  레시피제목       요리명  \\\n0           0  6929671                     단호박 요리 / 단호박 찹쌀부꾸미  단호박찹쌀부꾸미   \n1           1  6929678  달래양념장 넣어 더 맛있는 만드는 도토리묵무침! : 달래도토리묵무침  달래도토리묵무침   \n2           2  6929682           나물반찬 한 가지...시금치 쌈장무침  시금치무침    시금치쌈장무침   \n3           3  6929683           간단한 점심 한끼♥한재미나리 무침♥쉬운 나물반찬#7   한재미나리무침   \n4           4  6929690   대용량 반찬 메추리알카레조림 만드는 법(+메추리알 쉽게 까는 법)  메추리알카레조림   \n\n       등록자ID         등록자명    조회수  추천수  스크랩수 요리방법  ...  요리재료별명  요리종류  \\\n0   62929808  요알남Mingstar   3259    0    72   굽기  ...     채소류   밑반찬   \n1    gdubu33       만개의레시피  17425    0   771   무침  ...      기타   밑반찬   \n2  0807twins        배고픈엄마   2004    0    13   무침  ...     채소류   밑반찬   \n3   47282064       자유부인식당   2591    0    56   무침  ...     채소류   밑반찬   \n4   qkrfp458          레몬콩   1897    0   105   조림  ...  달걀/유제품  메인반찬   \n\n                                                요리소개  \\\n0  단호박은 서양계 호박의 한 품종으로 당도가 높고 밤 맛이 난다 하여 밤호박이라고도 ...   \n1  향긋한 달래의 향이 가득!  봄에는 역시 봄 달래양념장을 넣어 도토리묵을  더 맛있...   \n2  시금치를 사와 데쳤는데 맛이 없다면... 저는 김밥에 넣어 말아 버립니다. 그런데 ...   \n3  봄미나리 철이네요. 연한 한재미나리를 송송 썰어 최소한의 양념으로 무치면 미나리 향...   \n4  집에 메추리알을 좀 많이 사뒀는데 늘 조림이나 그런것만 해먹으니까 좀 색다르게 먹고...   \n\n                                               요리재료들 요리인분 요리난이도   요리시간  \\\n0                {재료: [단호박 1/4개, 찹쌀가루 4Ts, 식용유 4Ts]}  1인분   아무나  30분이내   \n1  [필수재료] 도토리묵 1모| 달래 30g| 김가루 약간| 통깨 약간 [양념재료] 간...  2인분   아무나  30분이내   \n2  [재료] 데친 시금치 1줌| 쌈장 1큰술| 참기름 1큰술| 다진마늘 1/2큰술| 갈...  4인분    초급  15분이내   \n3  [재료] 미나리 쫑쫑썰어 1컵 [양념] 다진마늘 1티스푼| 다진파 1/2큰술| 고춧...  2인분   아무나  10분이내   \n4  [재료] 메추리알 48개| 양파 1/2개| 대파 작은것 1개| 카레가루 3.5T| ...  2인분   아무나  60분이내   \n\n          최초등록일                                         ingre1  \\\n0  2.020000e+13                                 단호박, 찹쌀가루, 식용유   \n1  2.020000e+13   도토리묵, 달래, 김, 통깨, 간장, 고춧가루, 설탕, 다진마늘, 참기름, 통깨   \n2  2.020000e+13                          시금치, 쌈장, 참기름, 다진마늘, 깨   \n3  2.020000e+13       미나리,  다진마늘,  대파, 고춧가루, 간장, 매실액, 참기름, 깨소금   \n4  2.020000e+13                      메추리알, 양파, 대파, 카레가루, 물, 소금   \n\n                                          main_image  \n0  https://recipe1.ezmember.co.kr/cache/recipe/20...  \n1  https://recipe1.ezmember.co.kr/cache/recipe/20...  \n2  https://recipe1.ezmember.co.kr/cache/recipe/20...  \n3  https://recipe1.ezmember.co.kr/cache/recipe/20...  \n4  https://recipe1.ezmember.co.kr/cache/recipe/20...  \n\n[5 rows x 21 columns]"
     },
     "execution_count": 81,
     "metadata": {},
     "output_type": "execute_result"
    }
   ],
   "source": [
    "data.head()"
   ]
  },
  {
   "cell_type": "code",
   "execution_count": 85,
   "metadata": {},
   "outputs": [],
   "source": [
    "data.to_csv(\"image_added.csv\")"
   ]
  },
  {
   "cell_type": "code",
   "execution_count": 176,
   "metadata": {},
   "outputs": [
    {
     "data": {
      "text/plain": "'https://recipe1.ezmember.co.kr/cache/recipe/2018/07/29/15e54dab99387993764f9e8f6efdcd551.jpg'"
     },
     "execution_count": 176,
     "metadata": {},
     "output_type": "execute_result"
    }
   ],
   "source": [
    "import re\n",
    "req = requests.get('https://www.10000recipe.com/recipe/6893285')\n",
    "    ## HTML 소스 가져오기\n",
    "html = req.text\n",
    "soup = BeautifulSoup(html, 'html.parser')\n",
    "# jori_rare = soup.find_all(text=re.compile(\"#stepDiv\"))\n",
    "jori_rare = soup.findAll(\"div\", id=re.compile(\"stepDiv\"))\n",
    "jori_desc = soup.findAll(\"div\", id=re.compile(\"stepdescr\"))\n",
    "jori = []\n",
    "for idx in range(len(jori_desc)):\n",
    "        if jori_desc[idx].p is not None:\n",
    "            jori_desc[idx].p.decompose() \n",
    "        text = jori_desc[idx].text\n",
    "        jori.append(text)\n",
    "jori_img = soup.findAll(\"div\", id=re.compile(\"stepimg\"))\n",
    "jori_img[0].findChildren('img')[0]['src']\n"
   ]
  },
  {
   "cell_type": "code",
   "execution_count": 177,
   "metadata": {},
   "outputs": [],
   "source": [
    "jori_words= []\n",
    "jori_imgs = []\n",
    "for index in search_index:\n",
    "    ## HTTP GET Request\n",
    "    req = requests.get(f'https://www.10000recipe.com/recipe/{index}')\n",
    "    ## HTML 소스 가져오기\n",
    "    html = req.text\n",
    "    soup = BeautifulSoup(html, 'html.parser')\n",
    "    jori_desc = soup.findAll(\"div\", id=re.compile(\"stepdescr\"))\n",
    "    words = []\n",
    "    imgs = []\n",
    "    for idx in range(len(jori_desc)):\n",
    "        if jori_desc[idx].p is not None:\n",
    "            jori_desc[idx].p.decompose() \n",
    "        text = jori_desc[idx].text\n",
    "        words.append(text)\n",
    "    jori_words.append(words)\n",
    "\n",
    "    jori_img = soup.findAll(\"div\", id=re.compile(\"stepimg\"))\n",
    "    for jori in jori_img:\n",
    "        img = jori.findChildren('img')[0]['src']\n",
    "        imgs.append(img)\n",
    "    jori_imgs.append(imgs)"
   ]
  },
  {
   "cell_type": "code",
   "execution_count": 191,
   "metadata": {},
   "outputs": [],
   "source": [
    "data = pd.read_csv(\"image_added.csv\")\n",
    "data['cooking_step'] = jori_words\n"
   ]
  },
  {
   "cell_type": "code",
   "execution_count": 192,
   "metadata": {},
   "outputs": [],
   "source": [
    "data['cooking_image'] = jori_imgs\n",
    "data.to_csv(\"recipes.csv\")"
   ]
  },
  {
   "cell_type": "code",
   "execution_count": 187,
   "metadata": {},
   "outputs": [],
   "source": [
    "# data = pd.read_csv(\"recipes.csv\")\n",
    "# dd = data['cooking_step'].replace('\"', '')\n",
    "# dd = data['cooking_image'].replace('\"', '')\n",
    "# dd.to_csv('recipes.csv')"
   ]
  }
 ],
 "metadata": {
  "kernelspec": {
   "display_name": "Python 3.9.5 64-bit",
   "name": "python395jvsc74a57bd0aee8b7b246df8f9039afb4144a1f6fd8d2ca17a180786b69acc140d282b71a49"
  },
  "language_info": {
   "codemirror_mode": {
    "name": "ipython",
    "version": 3
   },
   "file_extension": ".py",
   "mimetype": "text/x-python",
   "name": "python",
   "nbconvert_exporter": "python",
   "pygments_lexer": "ipython3",
   "version": "3.9.5"
  },
  "metadata": {
   "interpreter": {
    "hash": "aee8b7b246df8f9039afb4144a1f6fd8d2ca17a180786b69acc140d282b71a49"
   }
  },
  "orig_nbformat": 2
 },
 "nbformat": 4,
 "nbformat_minor": 2
}